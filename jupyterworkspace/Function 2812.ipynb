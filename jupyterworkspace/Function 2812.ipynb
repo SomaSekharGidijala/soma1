{
 "cells": [
  {
   "cell_type": "code",
   "execution_count": 1,
   "id": "acf4b0d2",
   "metadata": {},
   "outputs": [],
   "source": [
    "def f1():\n",
    "    print('f1 called')\n",
    "    "
   ]
  },
  {
   "cell_type": "code",
   "execution_count": 2,
   "id": "f6a0545b",
   "metadata": {},
   "outputs": [
    {
     "name": "stdout",
     "output_type": "stream",
     "text": [
      "<function f1 at 0x00000053E5809120>\n"
     ]
    }
   ],
   "source": [
    "print(f1)"
   ]
  },
  {
   "cell_type": "code",
   "execution_count": 11,
   "id": "83ef1a25",
   "metadata": {},
   "outputs": [
    {
     "name": "stdout",
     "output_type": "stream",
     "text": [
      "f1 called\n",
      "None\n"
     ]
    }
   ],
   "source": [
    "res=f1()\n",
    "print(res)"
   ]
  },
  {
   "cell_type": "code",
   "execution_count": 29,
   "id": "b5429a78",
   "metadata": {},
   "outputs": [],
   "source": [
    "def sum(n1,n2):\n",
    "    print('5k')\n",
    "    return n1+n2\n"
   ]
  },
  {
   "cell_type": "code",
   "execution_count": 30,
   "id": "0e8fb779",
   "metadata": {
    "scrolled": true
   },
   "outputs": [
    {
     "name": "stdout",
     "output_type": "stream",
     "text": [
      "5k\n"
     ]
    }
   ],
   "source": [
    "res=sum(10,20)"
   ]
  },
  {
   "cell_type": "code",
   "execution_count": 31,
   "id": "3aa165eb",
   "metadata": {},
   "outputs": [
    {
     "name": "stdout",
     "output_type": "stream",
     "text": [
      "30\n"
     ]
    }
   ],
   "source": [
    "print(res)"
   ]
  },
  {
   "cell_type": "code",
   "execution_count": 32,
   "id": "48f7c7e1",
   "metadata": {},
   "outputs": [
    {
     "name": "stdout",
     "output_type": "stream",
     "text": [
      "30\n"
     ]
    }
   ],
   "source": [
    "print(res)"
   ]
  },
  {
   "cell_type": "code",
   "execution_count": 33,
   "id": "c82193f2",
   "metadata": {},
   "outputs": [
    {
     "name": "stdout",
     "output_type": "stream",
     "text": [
      "30\n"
     ]
    }
   ],
   "source": [
    "print(res)"
   ]
  },
  {
   "cell_type": "code",
   "execution_count": 53,
   "id": "c6d68f9b",
   "metadata": {},
   "outputs": [],
   "source": [
    "def f2(a):\n",
    "    a()"
   ]
  },
  {
   "cell_type": "code",
   "execution_count": 55,
   "id": "96a4cf35",
   "metadata": {},
   "outputs": [
    {
     "name": "stdout",
     "output_type": "stream",
     "text": [
      "f1 called\n"
     ]
    }
   ],
   "source": [
    "f2(f1)"
   ]
  },
  {
   "cell_type": "code",
   "execution_count": 65,
   "id": "0f60b525",
   "metadata": {},
   "outputs": [],
   "source": [
    "def f3():\n",
    "    def f4():\n",
    "        print('f4 called')\n",
    "    return f4;"
   ]
  },
  {
   "cell_type": "code",
   "execution_count": 67,
   "id": "0b0a4716",
   "metadata": {},
   "outputs": [],
   "source": [
    "result=f3()"
   ]
  },
  {
   "cell_type": "code",
   "execution_count": 70,
   "id": "1d423391",
   "metadata": {},
   "outputs": [
    {
     "name": "stdout",
     "output_type": "stream",
     "text": [
      "f4 called\n"
     ]
    }
   ],
   "source": [
    "result()"
   ]
  },
  {
   "cell_type": "code",
   "execution_count": 75,
   "id": "2143e446",
   "metadata": {},
   "outputs": [],
   "source": [
    "def m1(a,b):\n",
    "    a('Sachin')\n",
    "    b()\n",
    "    def m2():\n",
    "        print(\"Dhoni\")\n",
    "    return m2;"
   ]
  },
  {
   "cell_type": "code",
   "execution_count": 76,
   "id": "cbfb1998",
   "metadata": {},
   "outputs": [],
   "source": [
    "def m3(name):\n",
    "    print(name)"
   ]
  },
  {
   "cell_type": "code",
   "execution_count": 77,
   "id": "6e7c55ba",
   "metadata": {},
   "outputs": [],
   "source": [
    "def m4():\n",
    "    print(\"Kohli\")"
   ]
  },
  {
   "cell_type": "code",
   "execution_count": 79,
   "id": "2e6e47ec",
   "metadata": {},
   "outputs": [
    {
     "name": "stdout",
     "output_type": "stream",
     "text": [
      "Sachin\n",
      "Kohli\n",
      "Dhoni\n"
     ]
    }
   ],
   "source": [
    "myResult=m1(m3,m4)\n",
    "myResult()"
   ]
  },
  {
   "cell_type": "code",
   "execution_count": 80,
   "id": "48ed4b1b",
   "metadata": {},
   "outputs": [
    {
     "name": "stdout",
     "output_type": "stream",
     "text": [
      "Dhoni\n"
     ]
    }
   ],
   "source": [
    "myResult()"
   ]
  },
  {
   "cell_type": "code",
   "execution_count": 3,
   "id": "787723a8",
   "metadata": {},
   "outputs": [],
   "source": [
    "p=10\n",
    "z=20"
   ]
  },
  {
   "cell_type": "code",
   "execution_count": 4,
   "id": "4e587823",
   "metadata": {},
   "outputs": [
    {
     "data": {
      "text/plain": [
       "False"
      ]
     },
     "execution_count": 4,
     "metadata": {},
     "output_type": "execute_result"
    }
   ],
   "source": [
    "p==z"
   ]
  },
  {
   "cell_type": "code",
   "execution_count": 5,
   "id": "b5c7ff48",
   "metadata": {},
   "outputs": [
    {
     "data": {
      "text/plain": [
       "360252310032"
      ]
     },
     "execution_count": 5,
     "metadata": {},
     "output_type": "execute_result"
    }
   ],
   "source": [
    "id(p)"
   ]
  },
  {
   "cell_type": "code",
   "execution_count": 6,
   "id": "d63f3f12",
   "metadata": {},
   "outputs": [
    {
     "data": {
      "text/plain": [
       "360252310352"
      ]
     },
     "execution_count": 6,
     "metadata": {},
     "output_type": "execute_result"
    }
   ],
   "source": [
    "id(z)"
   ]
  },
  {
   "cell_type": "code",
   "execution_count": 7,
   "id": "cbe1dc45",
   "metadata": {},
   "outputs": [],
   "source": [
    "a=p"
   ]
  },
  {
   "cell_type": "code",
   "execution_count": 8,
   "id": "171706c4",
   "metadata": {},
   "outputs": [
    {
     "data": {
      "text/plain": [
       "360252310032"
      ]
     },
     "execution_count": 8,
     "metadata": {},
     "output_type": "execute_result"
    }
   ],
   "source": [
    "id(a)"
   ]
  },
  {
   "cell_type": "code",
   "execution_count": 9,
   "id": "9c1e2da6",
   "metadata": {},
   "outputs": [
    {
     "data": {
      "text/plain": [
       "False"
      ]
     },
     "execution_count": 9,
     "metadata": {},
     "output_type": "execute_result"
    }
   ],
   "source": [
    "id(a) is id(p)"
   ]
  },
  {
   "cell_type": "code",
   "execution_count": 10,
   "id": "a93df941",
   "metadata": {},
   "outputs": [
    {
     "data": {
      "text/plain": [
       "False"
      ]
     },
     "execution_count": 10,
     "metadata": {},
     "output_type": "execute_result"
    }
   ],
   "source": [
    "p is z"
   ]
  },
  {
   "cell_type": "code",
   "execution_count": 11,
   "id": "2201a3ac",
   "metadata": {},
   "outputs": [
    {
     "data": {
      "text/plain": [
       "False"
      ]
     },
     "execution_count": 11,
     "metadata": {},
     "output_type": "execute_result"
    }
   ],
   "source": [
    "p==z"
   ]
  },
  {
   "cell_type": "code",
   "execution_count": 12,
   "id": "fe60871b",
   "metadata": {},
   "outputs": [
    {
     "data": {
      "text/plain": [
       "True"
      ]
     },
     "execution_count": 12,
     "metadata": {},
     "output_type": "execute_result"
    }
   ],
   "source": [
    "a is p"
   ]
  },
  {
   "cell_type": "code",
   "execution_count": 13,
   "id": "33a4c503",
   "metadata": {},
   "outputs": [
    {
     "data": {
      "text/plain": [
       "False"
      ]
     },
     "execution_count": 13,
     "metadata": {},
     "output_type": "execute_result"
    }
   ],
   "source": [
    "id(a) is id(a)"
   ]
  },
  {
   "cell_type": "code",
   "execution_count": 14,
   "id": "9787d554",
   "metadata": {},
   "outputs": [
    {
     "data": {
      "text/plain": [
       "False"
      ]
     },
     "execution_count": 14,
     "metadata": {},
     "output_type": "execute_result"
    }
   ],
   "source": [
    "id(a) is id(10)"
   ]
  },
  {
   "cell_type": "code",
   "execution_count": 15,
   "id": "44fac3f6",
   "metadata": {},
   "outputs": [],
   "source": [
    "name='soma'"
   ]
  },
  {
   "cell_type": "code",
   "execution_count": 16,
   "id": "2d289ffd",
   "metadata": {},
   "outputs": [
    {
     "ename": "NameError",
     "evalue": "name 'm' is not defined",
     "output_type": "error",
     "traceback": [
      "\u001b[1;31m---------------------------------------------------------------------------\u001b[0m",
      "\u001b[1;31mNameError\u001b[0m                                 Traceback (most recent call last)",
      "\u001b[1;32m~\\AppData\\Local\\Temp/ipykernel_4676/1046654723.py\u001b[0m in \u001b[0;36m<module>\u001b[1;34m\u001b[0m\n\u001b[1;32m----> 1\u001b[1;33m \u001b[0mm\u001b[0m \u001b[1;32min\u001b[0m \u001b[0mname\u001b[0m\u001b[1;33m\u001b[0m\u001b[1;33m\u001b[0m\u001b[0m\n\u001b[0m",
      "\u001b[1;31mNameError\u001b[0m: name 'm' is not defined"
     ]
    }
   ],
   "source": [
    "m in name"
   ]
  },
  {
   "cell_type": "code",
   "execution_count": 17,
   "id": "9b0d869e",
   "metadata": {},
   "outputs": [
    {
     "data": {
      "text/plain": [
       "True"
      ]
     },
     "execution_count": 17,
     "metadata": {},
     "output_type": "execute_result"
    }
   ],
   "source": [
    "'m' in name"
   ]
  },
  {
   "cell_type": "code",
   "execution_count": 18,
   "id": "2ee1f76f",
   "metadata": {},
   "outputs": [
    {
     "data": {
      "text/plain": [
       "False"
      ]
     },
     "execution_count": 18,
     "metadata": {},
     "output_type": "execute_result"
    }
   ],
   "source": [
    "'S' in name"
   ]
  },
  {
   "cell_type": "code",
   "execution_count": 19,
   "id": "4de61b5a",
   "metadata": {},
   "outputs": [
    {
     "data": {
      "text/plain": [
       "'soma'"
      ]
     },
     "execution_count": 19,
     "metadata": {},
     "output_type": "execute_result"
    }
   ],
   "source": [
    "name[:]"
   ]
  },
  {
   "cell_type": "code",
   "execution_count": 20,
   "id": "2c3152c4",
   "metadata": {},
   "outputs": [
    {
     "ename": "SyntaxError",
     "evalue": "invalid syntax (Temp/ipykernel_4676/917225562.py, line 1)",
     "output_type": "error",
     "traceback": [
      "\u001b[1;36m  File \u001b[1;32m\"G:\\Users\\Shekhar\\AppData\\Local\\Temp/ipykernel_4676/917225562.py\"\u001b[1;36m, line \u001b[1;32m1\u001b[0m\n\u001b[1;33m    name{}\u001b[0m\n\u001b[1;37m        ^\u001b[0m\n\u001b[1;31mSyntaxError\u001b[0m\u001b[1;31m:\u001b[0m invalid syntax\n"
     ]
    }
   ],
   "source": [
    "name{}"
   ]
  },
  {
   "cell_type": "code",
   "execution_count": 21,
   "id": "226df02f",
   "metadata": {},
   "outputs": [
    {
     "data": {
      "text/plain": [
       "'so'"
      ]
     },
     "execution_count": 21,
     "metadata": {},
     "output_type": "execute_result"
    }
   ],
   "source": [
    "name[0:2]"
   ]
  },
  {
   "cell_type": "code",
   "execution_count": 23,
   "id": "ed81b3a9",
   "metadata": {},
   "outputs": [
    {
     "data": {
      "text/plain": [
       "'soma'"
      ]
     },
     "execution_count": 23,
     "metadata": {},
     "output_type": "execute_result"
    }
   ],
   "source": [
    "name[0:10:2]"
   ]
  },
  {
   "cell_type": "code",
   "execution_count": 24,
   "id": "651eef1a",
   "metadata": {},
   "outputs": [],
   "source": [
    "name='somasekhar'"
   ]
  },
  {
   "cell_type": "code",
   "execution_count": 25,
   "id": "de66e7f4",
   "metadata": {},
   "outputs": [
    {
     "data": {
      "text/plain": [
       "'smska'"
      ]
     },
     "execution_count": 25,
     "metadata": {},
     "output_type": "execute_result"
    }
   ],
   "source": [
    "name[0:10:2]"
   ]
  },
  {
   "cell_type": "code",
   "execution_count": 37,
   "id": "9d8a4c37",
   "metadata": {},
   "outputs": [
    {
     "data": {
      "text/plain": [
       "range(0, 5)"
      ]
     },
     "execution_count": 37,
     "metadata": {},
     "output_type": "execute_result"
    }
   ],
   "source": [
    "range(0,5)"
   ]
  },
  {
   "cell_type": "code",
   "execution_count": 40,
   "id": "73436370",
   "metadata": {},
   "outputs": [
    {
     "name": "stdout",
     "output_type": "stream",
     "text": [
      "0\n",
      "1\n",
      "2\n",
      "3\n",
      "4\n"
     ]
    }
   ],
   "source": [
    "for v in range(0,5):\n",
    "    print(v)"
   ]
  },
  {
   "cell_type": "raw",
   "id": "69dd8d06",
   "metadata": {},
   "source": [
    "r=list(range(0,5))"
   ]
  },
  {
   "cell_type": "code",
   "execution_count": 41,
   "id": "10e10d17",
   "metadata": {},
   "outputs": [
    {
     "ename": "NameError",
     "evalue": "name 'r' is not defined",
     "output_type": "error",
     "traceback": [
      "\u001b[1;31m---------------------------------------------------------------------------\u001b[0m",
      "\u001b[1;31mNameError\u001b[0m                                 Traceback (most recent call last)",
      "\u001b[1;32m~\\AppData\\Local\\Temp/ipykernel_4676/1615051761.py\u001b[0m in \u001b[0;36m<module>\u001b[1;34m\u001b[0m\n\u001b[1;32m----> 1\u001b[1;33m \u001b[0mprint\u001b[0m\u001b[1;33m(\u001b[0m\u001b[0mr\u001b[0m\u001b[1;33m)\u001b[0m\u001b[1;33m\u001b[0m\u001b[1;33m\u001b[0m\u001b[0m\n\u001b[0m",
      "\u001b[1;31mNameError\u001b[0m: name 'r' is not defined"
     ]
    }
   ],
   "source": [
    "print(r)"
   ]
  },
  {
   "cell_type": "code",
   "execution_count": 44,
   "id": "7dd9edc3",
   "metadata": {},
   "outputs": [],
   "source": [
    "name='satchin'"
   ]
  },
  {
   "cell_type": "markdown",
   "id": "a50986e6",
   "metadata": {},
   "source": [
    "name[2]"
   ]
  },
  {
   "cell_type": "code",
   "execution_count": 45,
   "id": "5a357b36",
   "metadata": {},
   "outputs": [
    {
     "data": {
      "text/plain": [
       "'s'"
      ]
     },
     "execution_count": 45,
     "metadata": {},
     "output_type": "execute_result"
    }
   ],
   "source": [
    "name[0]"
   ]
  },
  {
   "cell_type": "code",
   "execution_count": 46,
   "id": "42930e9c",
   "metadata": {},
   "outputs": [
    {
     "data": {
      "text/plain": [
       "'c'"
      ]
     },
     "execution_count": 46,
     "metadata": {},
     "output_type": "execute_result"
    }
   ],
   "source": [
    "name[3]"
   ]
  },
  {
   "cell_type": "code",
   "execution_count": null,
   "id": "9bc3fb4c",
   "metadata": {},
   "outputs": [],
   "source": []
  }
 ],
 "metadata": {
  "kernelspec": {
   "display_name": "Python 3 (ipykernel)",
   "language": "python",
   "name": "python3"
  },
  "language_info": {
   "codemirror_mode": {
    "name": "ipython",
    "version": 3
   },
   "file_extension": ".py",
   "mimetype": "text/x-python",
   "name": "python",
   "nbconvert_exporter": "python",
   "pygments_lexer": "ipython3",
   "version": "3.10.1"
  }
 },
 "nbformat": 4,
 "nbformat_minor": 5
}
