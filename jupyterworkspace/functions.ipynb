{
 "cells": [
  {
   "cell_type": "code",
   "execution_count": 3,
   "id": "48ce4eff",
   "metadata": {},
   "outputs": [],
   "source": [
    "def findSum():\n",
    "    n1=10\n",
    "    n2=20\n",
    "    sum=n1+n2 \n",
    "    print(sum)"
   ]
  },
  {
   "cell_type": "code",
   "execution_count": 4,
   "id": "e8a6b966",
   "metadata": {},
   "outputs": [],
   "source": [
    "n1=10"
   ]
  },
  {
   "cell_type": "code",
   "execution_count": 5,
   "id": "deb4bc21",
   "metadata": {},
   "outputs": [
    {
     "data": {
      "text/plain": [
       "10"
      ]
     },
     "execution_count": 5,
     "metadata": {},
     "output_type": "execute_result"
    }
   ],
   "source": [
    "n1"
   ]
  },
  {
   "cell_type": "code",
   "execution_count": 6,
   "id": "d267aca7",
   "metadata": {},
   "outputs": [
    {
     "data": {
      "text/plain": [
       "<function __main__.findSum()>"
      ]
     },
     "execution_count": 6,
     "metadata": {},
     "output_type": "execute_result"
    }
   ],
   "source": [
    "findSum"
   ]
  },
  {
   "cell_type": "code",
   "execution_count": 7,
   "id": "c4b0c5a9",
   "metadata": {},
   "outputs": [
    {
     "name": "stdout",
     "output_type": "stream",
     "text": [
      "30\n"
     ]
    }
   ],
   "source": [
    "findSum()"
   ]
  },
  {
   "cell_type": "code",
   "execution_count": 19,
   "id": "08e0851e",
   "metadata": {},
   "outputs": [],
   "source": [
    "def fnAdd(n1,n2):\n",
    "    print('5k')\n",
    "    sum=n1+n2\n",
    "    print(sum)"
   ]
  },
  {
   "cell_type": "code",
   "execution_count": 20,
   "id": "3e3d1902",
   "metadata": {},
   "outputs": [
    {
     "name": "stdout",
     "output_type": "stream",
     "text": [
      "5k\n",
      "30\n"
     ]
    }
   ],
   "source": [
    "fnAdd(10,20)"
   ]
  },
  {
   "cell_type": "code",
   "execution_count": 22,
   "id": "ed75466c",
   "metadata": {},
   "outputs": [],
   "source": [
    "def f1():\n",
    "    print('f1 called')"
   ]
  },
  {
   "cell_type": "code",
   "execution_count": 23,
   "id": "e1735edd",
   "metadata": {},
   "outputs": [
    {
     "name": "stdout",
     "output_type": "stream",
     "text": [
      "f1 called\n"
     ]
    }
   ],
   "source": [
    "res=f1()"
   ]
  },
  {
   "cell_type": "code",
   "execution_count": 25,
   "id": "90d4f641",
   "metadata": {},
   "outputs": [],
   "source": [
    "res"
   ]
  },
  {
   "cell_type": "code",
   "execution_count": null,
   "id": "237e49c5",
   "metadata": {},
   "outputs": [],
   "source": []
  }
 ],
 "metadata": {
  "kernelspec": {
   "display_name": "Python 3 (ipykernel)",
   "language": "python",
   "name": "python3"
  },
  "language_info": {
   "codemirror_mode": {
    "name": "ipython",
    "version": 3
   },
   "file_extension": ".py",
   "mimetype": "text/x-python",
   "name": "python",
   "nbconvert_exporter": "python",
   "pygments_lexer": "ipython3",
   "version": "3.10.1"
  }
 },
 "nbformat": 4,
 "nbformat_minor": 5
}
