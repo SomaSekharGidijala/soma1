{
 "cells": [
  {
   "cell_type": "code",
   "execution_count": null,
   "id": "c4ef66e8",
   "metadata": {},
   "outputs": [],
   "source": [
    "a=10\n",
    "b=20"
   ]
  },
  {
   "cell_type": "code",
   "execution_count": null,
   "id": "2e925c78",
   "metadata": {},
   "outputs": [],
   "source": [
    "id(a)"
   ]
  },
  {
   "cell_type": "code",
   "execution_count": null,
   "id": "5f9c9c37",
   "metadata": {},
   "outputs": [],
   "source": [
    "id(b)"
   ]
  },
  {
   "cell_type": "code",
   "execution_count": null,
   "id": "83cdd94b",
   "metadata": {},
   "outputs": [],
   "source": [
    "a"
   ]
  },
  {
   "cell_type": "code",
   "execution_count": null,
   "id": "35327681",
   "metadata": {},
   "outputs": [],
   "source": [
    "a==10"
   ]
  },
  {
   "cell_type": "code",
   "execution_count": null,
   "id": "acb8dac0",
   "metadata": {},
   "outputs": [],
   "source": [
    "name ='soma'"
   ]
  },
  {
   "cell_type": "code",
   "execution_count": null,
   "id": "0d65f45f",
   "metadata": {},
   "outputs": [],
   "source": [
    "name"
   ]
  },
  {
   "cell_type": "code",
   "execution_count": null,
   "id": "e5ed30ab",
   "metadata": {},
   "outputs": [],
   "source": []
  }
 ],
 "metadata": {
  "kernelspec": {
   "display_name": "Python 3 (ipykernel)",
   "language": "python",
   "name": "python3"
  }
 },
 "nbformat": 4,
 "nbformat_minor": 5
}
