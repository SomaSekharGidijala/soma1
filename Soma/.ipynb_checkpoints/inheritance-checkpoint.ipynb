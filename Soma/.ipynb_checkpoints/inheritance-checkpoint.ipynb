{
 "cells": [
  {
   "cell_type": "code",
   "execution_count": 25,
   "id": "74c29c3e",
   "metadata": {},
   "outputs": [],
   "source": [
    "class p:\n",
    "    def __init__(self):\n",
    "        self.n1=20\n",
    "        print(self.n1)\n",
    "class c(p):\n",
    "    def sum(self):\n",
    "        self.n2 =40\n",
    "        print(self.n2+self.n1)\n",
    "    def sum1(self):\n",
    "        print(self.n2+self.n1)"
   ]
  },
  {
   "cell_type": "code",
   "execution_count": 26,
   "id": "afada355",
   "metadata": {},
   "outputs": [
    {
     "name": "stdout",
     "output_type": "stream",
     "text": [
      "20\n"
     ]
    }
   ],
   "source": [
    "o=c()"
   ]
  },
  {
   "cell_type": "code",
   "execution_count": 27,
   "id": "aa6ef05f",
   "metadata": {},
   "outputs": [
    {
     "name": "stdout",
     "output_type": "stream",
     "text": [
      "60\n"
     ]
    }
   ],
   "source": [
    "o.sum()"
   ]
  },
  {
   "cell_type": "code",
   "execution_count": null,
   "id": "7c382826",
   "metadata": {
    "collapsed": true
   },
   "outputs": [],
   "source": []
  }
 ],
 "metadata": {
  "kernelspec": {
   "display_name": "Python 3 (ipykernel)",
   "language": "python",
   "name": "python3"
  },
  "language_info": {
   "codemirror_mode": {
    "name": "ipython",
    "version": 3
   },
   "file_extension": ".py",
   "mimetype": "text/x-python",
   "name": "python",
   "nbconvert_exporter": "python",
   "pygments_lexer": "ipython3",
   "version": "3.10.1"
  }
 },
 "nbformat": 4,
 "nbformat_minor": 5
}
