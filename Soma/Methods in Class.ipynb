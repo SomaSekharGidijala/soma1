{
 "cells": [
  {
   "cell_type": "code",
   "execution_count": 164,
   "id": "c1086829",
   "metadata": {},
   "outputs": [],
   "source": [
    "class c:\n",
    "    s=30\n",
    "    def __init__(self,a,s):\n",
    "        re=self.f1()\n",
    "        print(a,s+c.s+re)\n",
    "    def f1(self):\n",
    "        c=30\n",
    "        d=40\n",
    "        return(c+d)"
   ]
  },
  {
   "cell_type": "code",
   "execution_count": 165,
   "id": "44152bf9",
   "metadata": {},
   "outputs": [
    {
     "name": "stdout",
     "output_type": "stream",
     "text": [
      "s30 140\n"
     ]
    }
   ],
   "source": [
    "o=c('s30',40)"
   ]
  },
  {
   "cell_type": "code",
   "execution_count": 166,
   "id": "8af10453",
   "metadata": {},
   "outputs": [
    {
     "data": {
      "text/plain": [
       "30"
      ]
     },
     "execution_count": 166,
     "metadata": {},
     "output_type": "execute_result"
    }
   ],
   "source": [
    "o.s"
   ]
  },
  {
   "cell_type": "code",
   "execution_count": 167,
   "id": "bc3813c2",
   "metadata": {},
   "outputs": [],
   "source": [
    "r=o.f1()"
   ]
  },
  {
   "cell_type": "code",
   "execution_count": 168,
   "id": "dd8de4d6",
   "metadata": {},
   "outputs": [
    {
     "name": "stdout",
     "output_type": "stream",
     "text": [
      "70\n"
     ]
    }
   ],
   "source": [
    "print(r)"
   ]
  },
  {
   "cell_type": "code",
   "execution_count": 169,
   "id": "dc7b409e",
   "metadata": {},
   "outputs": [
    {
     "data": {
      "text/plain": [
       "30"
      ]
     },
     "execution_count": 169,
     "metadata": {},
     "output_type": "execute_result"
    }
   ],
   "source": [
    "o.s"
   ]
  },
  {
   "cell_type": "code",
   "execution_count": 170,
   "id": "d98f3f1b",
   "metadata": {},
   "outputs": [
    {
     "data": {
      "text/plain": [
       "30"
      ]
     },
     "execution_count": 170,
     "metadata": {},
     "output_type": "execute_result"
    }
   ],
   "source": [
    "c.s"
   ]
  },
  {
   "cell_type": "code",
   "execution_count": 171,
   "id": "ca5e89c7",
   "metadata": {},
   "outputs": [],
   "source": [
    "class c1:\n",
    "    def __init__(self):\n",
    "        self.a=0\n",
    "        self.b=0\n",
    "    def getValue(self):\n",
    "        return(self.a+self.b)"
   ]
  },
  {
   "cell_type": "code",
   "execution_count": 172,
   "id": "be48784e",
   "metadata": {},
   "outputs": [],
   "source": [
    "o1=c1()"
   ]
  },
  {
   "cell_type": "code",
   "execution_count": 173,
   "id": "1bc0110f",
   "metadata": {},
   "outputs": [],
   "source": [
    "o1.a=20"
   ]
  },
  {
   "cell_type": "code",
   "execution_count": 174,
   "id": "8038466a",
   "metadata": {},
   "outputs": [],
   "source": [
    "o1.b=30"
   ]
  },
  {
   "cell_type": "code",
   "execution_count": 175,
   "id": "363f512a",
   "metadata": {},
   "outputs": [],
   "source": [
    "re=o1.getValue()"
   ]
  },
  {
   "cell_type": "code",
   "execution_count": 176,
   "id": "e5e195a3",
   "metadata": {},
   "outputs": [
    {
     "name": "stdout",
     "output_type": "stream",
     "text": [
      "50\n"
     ]
    }
   ],
   "source": [
    "print(re)"
   ]
  },
  {
   "cell_type": "code",
   "execution_count": 177,
   "id": "90c97269",
   "metadata": {},
   "outputs": [],
   "source": [
    "o1.a=30"
   ]
  },
  {
   "cell_type": "code",
   "execution_count": 90,
   "id": "00f90c95",
   "metadata": {},
   "outputs": [],
   "source": [
    "class m:\n",
    "    st1='soma'\n",
    "    def __init__(self):\n",
    "        self.lname='sekhar'\n",
    "        \n",
    "    def in1(self):\n",
    "        self.s1=10\n",
    "        print(self.s1)\n",
    "        \n",
    "    @staticmethod\n",
    "    def stat():\n",
    "        print(m.st1)\n",
    "        print(m().lname)\n",
    "        \n",
    "    @classmethod\n",
    "    def clas(mn):\n",
    "        print(mn.st1)\n",
    "        print(mn().lname)\n",
    "    \n",
    "    "
   ]
  },
  {
   "cell_type": "code",
   "execution_count": 91,
   "id": "1f50b7c3",
   "metadata": {},
   "outputs": [],
   "source": [
    "o=m()"
   ]
  },
  {
   "cell_type": "code",
   "execution_count": 92,
   "id": "4fd9b131",
   "metadata": {},
   "outputs": [
    {
     "name": "stdout",
     "output_type": "stream",
     "text": [
      "10\n"
     ]
    }
   ],
   "source": [
    "o.in1()"
   ]
  },
  {
   "cell_type": "markdown",
   "id": "af7f6d32",
   "metadata": {},
   "source": [
    "m.stat()"
   ]
  },
  {
   "cell_type": "code",
   "execution_count": 93,
   "id": "63d7a4fa",
   "metadata": {},
   "outputs": [
    {
     "name": "stdout",
     "output_type": "stream",
     "text": [
      "soma\n",
      "sekhar\n"
     ]
    }
   ],
   "source": [
    "o.stat()"
   ]
  },
  {
   "cell_type": "code",
   "execution_count": 94,
   "id": "27e90e4d",
   "metadata": {},
   "outputs": [
    {
     "name": "stdout",
     "output_type": "stream",
     "text": [
      "soma\n",
      "sekhar\n"
     ]
    }
   ],
   "source": [
    "o.clas()"
   ]
  },
  {
   "cell_type": "code",
   "execution_count": 95,
   "id": "84ff7be7",
   "metadata": {},
   "outputs": [
    {
     "name": "stdout",
     "output_type": "stream",
     "text": [
      "soma\n",
      "sekhar\n"
     ]
    }
   ],
   "source": [
    "m.clas()"
   ]
  },
  {
   "cell_type": "code",
   "execution_count": null,
   "id": "09e22b5f",
   "metadata": {},
   "outputs": [],
   "source": []
  },
  {
   "cell_type": "code",
   "execution_count": null,
   "id": "e8e9e4ac",
   "metadata": {},
   "outputs": [],
   "source": []
  },
  {
   "cell_type": "code",
   "execution_count": null,
   "id": "4a123fb0",
   "metadata": {},
   "outputs": [],
   "source": []
  }
 ],
 "metadata": {
  "kernelspec": {
   "display_name": "Python 3 (ipykernel)",
   "language": "python",
   "name": "python3"
  },
  "language_info": {
   "codemirror_mode": {
    "name": "ipython",
    "version": 3
   },
   "file_extension": ".py",
   "mimetype": "text/x-python",
   "name": "python",
   "nbconvert_exporter": "python",
   "pygments_lexer": "ipython3",
   "version": "3.10.1"
  }
 },
 "nbformat": 4,
 "nbformat_minor": 5
}
